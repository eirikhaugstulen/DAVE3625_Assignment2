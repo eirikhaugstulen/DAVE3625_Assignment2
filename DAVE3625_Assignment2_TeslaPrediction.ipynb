{
 "cells": [
  {
   "cell_type": "code",
   "execution_count": 1,
   "id": "dff7e0bc",
   "metadata": {},
   "outputs": [],
   "source": [
    "#Import statements\n",
    "%matplotlib inline\n",
    "\n",
    "import numpy as np\n",
    "import pandas as pd\n",
    "import matplotlib.pyplot as plt\n",
    "import datetime as dt\n",
    "\n",
    "from sklearn import metrics\n",
    "from sklearn import preprocessing\n",
    "from sklearn.linear_model import LinearRegression\n",
    "from sklearn.model_selection import train_test_split"
   ]
  },
  {
   "cell_type": "code",
   "execution_count": 2,
   "id": "473556cd",
   "metadata": {},
   "outputs": [
    {
     "data": {
      "text/html": [
       "<div>\n",
       "<style scoped>\n",
       "    .dataframe tbody tr th:only-of-type {\n",
       "        vertical-align: middle;\n",
       "    }\n",
       "\n",
       "    .dataframe tbody tr th {\n",
       "        vertical-align: top;\n",
       "    }\n",
       "\n",
       "    .dataframe thead th {\n",
       "        text-align: right;\n",
       "    }\n",
       "</style>\n",
       "<table border=\"1\" class=\"dataframe\">\n",
       "  <thead>\n",
       "    <tr style=\"text-align: right;\">\n",
       "      <th></th>\n",
       "      <th>Date</th>\n",
       "      <th>Open</th>\n",
       "      <th>High</th>\n",
       "      <th>Low</th>\n",
       "      <th>Close</th>\n",
       "      <th>Adj Close</th>\n",
       "      <th>Volume</th>\n",
       "    </tr>\n",
       "  </thead>\n",
       "  <tbody>\n",
       "    <tr>\n",
       "      <th>0</th>\n",
       "      <td>2019-10-23</td>\n",
       "      <td>50.900002</td>\n",
       "      <td>51.228001</td>\n",
       "      <td>50.270000</td>\n",
       "      <td>50.936001</td>\n",
       "      <td>50.936001</td>\n",
       "      <td>26305500</td>\n",
       "    </tr>\n",
       "    <tr>\n",
       "      <th>1</th>\n",
       "      <td>2019-10-24</td>\n",
       "      <td>59.674000</td>\n",
       "      <td>60.986000</td>\n",
       "      <td>57.840000</td>\n",
       "      <td>59.936001</td>\n",
       "      <td>59.936001</td>\n",
       "      <td>148604500</td>\n",
       "    </tr>\n",
       "    <tr>\n",
       "      <th>2</th>\n",
       "      <td>2019-10-25</td>\n",
       "      <td>59.543999</td>\n",
       "      <td>66.000000</td>\n",
       "      <td>59.222000</td>\n",
       "      <td>65.625999</td>\n",
       "      <td>65.625999</td>\n",
       "      <td>150030500</td>\n",
       "    </tr>\n",
       "    <tr>\n",
       "      <th>3</th>\n",
       "      <td>2019-10-28</td>\n",
       "      <td>65.508003</td>\n",
       "      <td>68.167999</td>\n",
       "      <td>64.519997</td>\n",
       "      <td>65.542000</td>\n",
       "      <td>65.542000</td>\n",
       "      <td>94351500</td>\n",
       "    </tr>\n",
       "    <tr>\n",
       "      <th>4</th>\n",
       "      <td>2019-10-29</td>\n",
       "      <td>63.998001</td>\n",
       "      <td>64.860001</td>\n",
       "      <td>62.950001</td>\n",
       "      <td>63.243999</td>\n",
       "      <td>63.243999</td>\n",
       "      <td>63421500</td>\n",
       "    </tr>\n",
       "  </tbody>\n",
       "</table>\n",
       "</div>"
      ],
      "text/plain": [
       "         Date       Open       High        Low      Close  Adj Close  \\\n",
       "0  2019-10-23  50.900002  51.228001  50.270000  50.936001  50.936001   \n",
       "1  2019-10-24  59.674000  60.986000  57.840000  59.936001  59.936001   \n",
       "2  2019-10-25  59.543999  66.000000  59.222000  65.625999  65.625999   \n",
       "3  2019-10-28  65.508003  68.167999  64.519997  65.542000  65.542000   \n",
       "4  2019-10-29  63.998001  64.860001  62.950001  63.243999  63.243999   \n",
       "\n",
       "      Volume  \n",
       "0   26305500  \n",
       "1  148604500  \n",
       "2  150030500  \n",
       "3   94351500  \n",
       "4   63421500  "
      ]
     },
     "execution_count": 2,
     "metadata": {},
     "output_type": "execute_result"
    }
   ],
   "source": [
    "df = pd.read_csv('TSLA.csv', sep=',')\n",
    "df.head()"
   ]
  },
  {
   "cell_type": "code",
   "execution_count": 3,
   "id": "77a75ea3",
   "metadata": {},
   "outputs": [
    {
     "data": {
      "text/html": [
       "<div>\n",
       "<style scoped>\n",
       "    .dataframe tbody tr th:only-of-type {\n",
       "        vertical-align: middle;\n",
       "    }\n",
       "\n",
       "    .dataframe tbody tr th {\n",
       "        vertical-align: top;\n",
       "    }\n",
       "\n",
       "    .dataframe thead th {\n",
       "        text-align: right;\n",
       "    }\n",
       "</style>\n",
       "<table border=\"1\" class=\"dataframe\">\n",
       "  <thead>\n",
       "    <tr style=\"text-align: right;\">\n",
       "      <th></th>\n",
       "      <th>Date</th>\n",
       "      <th>Close</th>\n",
       "    </tr>\n",
       "  </thead>\n",
       "  <tbody>\n",
       "    <tr>\n",
       "      <th>489</th>\n",
       "      <td>2021-10-01</td>\n",
       "      <td>775.219971</td>\n",
       "    </tr>\n",
       "    <tr>\n",
       "      <th>200</th>\n",
       "      <td>2020-08-10</td>\n",
       "      <td>283.713989</td>\n",
       "    </tr>\n",
       "    <tr>\n",
       "      <th>311</th>\n",
       "      <td>2021-01-19</td>\n",
       "      <td>844.549988</td>\n",
       "    </tr>\n",
       "    <tr>\n",
       "      <th>29</th>\n",
       "      <td>2019-12-04</td>\n",
       "      <td>66.606003</td>\n",
       "    </tr>\n",
       "    <tr>\n",
       "      <th>220</th>\n",
       "      <td>2020-09-08</td>\n",
       "      <td>330.209991</td>\n",
       "    </tr>\n",
       "    <tr>\n",
       "      <th>13</th>\n",
       "      <td>2019-11-11</td>\n",
       "      <td>69.017998</td>\n",
       "    </tr>\n",
       "    <tr>\n",
       "      <th>429</th>\n",
       "      <td>2021-07-08</td>\n",
       "      <td>652.809998</td>\n",
       "    </tr>\n",
       "    <tr>\n",
       "      <th>47</th>\n",
       "      <td>2019-12-31</td>\n",
       "      <td>83.666000</td>\n",
       "    </tr>\n",
       "    <tr>\n",
       "      <th>276</th>\n",
       "      <td>2020-11-25</td>\n",
       "      <td>574.000000</td>\n",
       "    </tr>\n",
       "    <tr>\n",
       "      <th>158</th>\n",
       "      <td>2020-06-10</td>\n",
       "      <td>205.009995</td>\n",
       "    </tr>\n",
       "  </tbody>\n",
       "</table>\n",
       "</div>"
      ],
      "text/plain": [
       "           Date       Close\n",
       "489  2021-10-01  775.219971\n",
       "200  2020-08-10  283.713989\n",
       "311  2021-01-19  844.549988\n",
       "29   2019-12-04   66.606003\n",
       "220  2020-09-08  330.209991\n",
       "13   2019-11-11   69.017998\n",
       "429  2021-07-08  652.809998\n",
       "47   2019-12-31   83.666000\n",
       "276  2020-11-25  574.000000\n",
       "158  2020-06-10  205.009995"
      ]
     },
     "execution_count": 3,
     "metadata": {},
     "output_type": "execute_result"
    }
   ],
   "source": [
    "#Remove unused columns\n",
    "#We just want the Date and Close-price\n",
    "df = df.drop(columns=['Open', 'High', 'Low', 'Adj Close', 'Volume'])\n",
    "df.sample(10)"
   ]
  },
  {
   "cell_type": "code",
   "execution_count": 4,
   "id": "9fa5bc0c",
   "metadata": {},
   "outputs": [
    {
     "name": "stdout",
     "output_type": "stream",
     "text": [
      "<class 'pandas.core.frame.DataFrame'>\n",
      "RangeIndex: 505 entries, 0 to 504\n",
      "Data columns (total 2 columns):\n",
      " #   Column  Non-Null Count  Dtype  \n",
      "---  ------  --------------  -----  \n",
      " 0   Date    505 non-null    object \n",
      " 1   Close   505 non-null    float64\n",
      "dtypes: float64(1), object(1)\n",
      "memory usage: 8.0+ KB\n"
     ]
    }
   ],
   "source": [
    "df.info()"
   ]
  },
  {
   "cell_type": "code",
   "execution_count": 5,
   "id": "b129544c",
   "metadata": {},
   "outputs": [
    {
     "data": {
      "text/plain": [
       "<AxesSubplot:xlabel='Date', ylabel='Close'>"
      ]
     },
     "execution_count": 5,
     "metadata": {},
     "output_type": "execute_result"
    },
    {
     "data": {
      "image/png": "[encoded data removed]",
      "text/plain": [
       "<Figure size 432x288 with 1 Axes>"
      ]
     },
     "metadata": {
      "needs_background": "light"
     },
     "output_type": "display_data"
    }
   ],
   "source": [
    "#Linear regression does not work with date-objects, so we need to change it to ordinal form.\n",
    "#In the scatter plot, we can se a clear correlation between the date and closing price\n",
    "df['Date'] = pd.to_datetime(df['Date'])\n",
    "df['Date'] = df['Date'].map(dt.datetime.toordinal)\n",
    "df.plot.scatter(x='Date', y='Close')"
   ]
  },
  {
   "cell_type": "code",
   "execution_count": 6,
   "id": "dbd73cb2",
   "metadata": {},
   "outputs": [],
   "source": [
    "#Extract Date and Closing-price from the dataset\n",
    "X = pd.DataFrame(df['Date'])\n",
    "y = pd.DataFrame(df['Close'])"
   ]
  },
  {
   "cell_type": "code",
   "execution_count": 7,
   "id": "03208506",
   "metadata": {},
   "outputs": [],
   "source": [
    "#Split the data into training and testing set\n",
    "X_train, X_test, y_train, y_test = train_test_split(X, y, test_size=0.33, random_state=32)"
   ]
  },
  {
   "cell_type": "code",
   "execution_count": 8,
   "id": "69a4b75a",
   "metadata": {},
   "outputs": [],
   "source": [
    "linear_regressor = LinearRegression()\n",
    "linear_regressor.fit(X_train, y_train)\n",
    "Y_pred = linear_regressor.predict(X_train)"
   ]
  },
  {
   "cell_type": "code",
   "execution_count": 9,
   "id": "ec336adb",
   "metadata": {},
   "outputs": [
    {
     "data": {
      "image/png": "[encoded data removed]",
      "text/plain": [
       "<Figure size 432x288 with 1 Axes>"
      ]
     },
     "metadata": {
      "needs_background": "light"
     },
     "output_type": "display_data"
    }
   ],
   "source": [
    "plt.scatter(X_train, y_train)\n",
    "plt.plot(X_train, Y_pred, color='red')\n",
    "plt.show()"
   ]
  },
  {
   "cell_type": "code",
   "execution_count": 10,
   "id": "55e38b03",
   "metadata": {},
   "outputs": [
    {
     "name": "stdout",
     "output_type": "stream",
     "text": [
      "MSE = 8951.036559970484\n"
     ]
    }
   ],
   "source": [
    "#Show the MSE for the prediction model\n",
    "print( \"MSE = \"+str(metrics.mean_squared_error(y_train,Y_pred)))"
   ]
  },
  {
   "cell_type": "code",
   "execution_count": 11,
   "id": "686cc101",
   "metadata": {},
   "outputs": [
    {
     "data": {
      "image/png": "[encoded data removed]",
      "text/plain": [
       "<Figure size 432x288 with 1 Axes>"
      ]
     },
     "metadata": {
      "needs_background": "light"
     },
     "output_type": "display_data"
    },
    {
     "name": "stdout",
     "output_type": "stream",
     "text": [
      "MSE = 11482.575423713537\n"
     ]
    }
   ],
   "source": [
    "#Predict on the test data instead of the training data\n",
    "Y_pred = linear_regressor.predict(X_test)\n",
    "plt.scatter(X_test, y_test)\n",
    "plt.plot(X_test, Y_pred, color='red')\n",
    "plt.show()\n",
    "print( \"MSE = \"+str(metrics.mean_squared_error(y_test,Y_pred)))"
   ]
  },
  {
   "cell_type": "code",
   "execution_count": 12,
   "id": "dc353647",
   "metadata": {},
   "outputs": [
    {
     "data": {
      "text/plain": [
       "array([[902.44577797]])"
      ]
     },
     "execution_count": 12,
     "metadata": {},
     "output_type": "execute_result"
    }
   ],
   "source": [
    "#df['Date'] = pd.to_datetime(df['Date'])\n",
    "#df['Date'] = df['Date'].map(dt.datetime.toordinal)\n",
    "# You can now use this model to predict the outcome of the TESLA-stock on a certain day\n",
    "linear_regressor.predict([[pd.to_datetime('2021-11-26').toordinal()]])"
   ]
  },
  {
   "cell_type": "code",
   "execution_count": 13,
   "id": "d579bf25",
   "metadata": {},
   "outputs": [],
   "source": [
    "#Lets save this model for later use\n",
    "import pickle\n",
    "filename = 'TSLA_stock_predictor'\n",
    "pickle.dump(linear_regressor, open(filename, 'wb'))"
   ]
  },
  {
   "cell_type": "code",
   "execution_count": 14,
   "id": "b6956de3",
   "metadata": {},
   "outputs": [
    {
     "data": {
      "text/plain": [
       "array([[795.0171256]])"
      ]
     },
     "execution_count": 14,
     "metadata": {},
     "output_type": "execute_result"
    }
   ],
   "source": [
    "#And load it again to test that it worked\n",
    "loaded_tesla_model = pickle.load(open(filename, 'rb'))\n",
    "loaded_tesla_model.predict([[pd.to_datetime('2021-08-26').toordinal()]])"
   ]
  },
  {
   "cell_type": "code",
   "execution_count": null,
   "id": "1242bf30",
   "metadata": {},
   "outputs": [],
   "source": []
  }
 ],
 "metadata": {
  "kernelspec": {
   "display_name": "Python 3 (ipykernel)",
   "language": "python",
   "name": "python3"
  },
  "language_info": {
   "codemirror_mode": {
    "name": "ipython",
    "version": 3
   },
   "file_extension": ".py",
   "mimetype": "text/x-python",
   "name": "python",
   "nbconvert_exporter": "python",
   "pygments_lexer": "ipython3",
   "version": "3.8.11"
  }
 },
 "nbformat": 4,
 "nbformat_minor": 5
}
